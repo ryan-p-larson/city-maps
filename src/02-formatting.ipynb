{
 "cells": [
  {
   "cell_type": "markdown",
   "metadata": {},
   "source": [
    "# Formatting\n",
    "\n",
    "---\n",
    "\n",
    "For each datapoint we want the following attributes:\n",
    "\n",
    "- [x] Johnson county\n",
    "- [x] weekend\n",
    "- [ ] night\n",
    "- [x] 'business hours' (M-F, 8-5:30)\n",
    "- [ ] Campus building\n",
    "- [x] Year of school"
   ]
  },
  {
   "cell_type": "code",
   "execution_count": 1,
   "metadata": {},
   "outputs": [
    {
     "name": "stderr",
     "output_type": "stream",
     "text": [
      "/home/user/.miniconda3/envs/maps/lib/python3.5/importlib/_bootstrap.py:222: RuntimeWarning: numpy.dtype size changed, may indicate binary incompatibility. Expected 96, got 88\n",
      "  return f(*args, **kwds)\n",
      "/home/user/.miniconda3/envs/maps/lib/python3.5/importlib/_bootstrap.py:222: RuntimeWarning: numpy.dtype size changed, may indicate binary incompatibility. Expected 96, got 88\n",
      "  return f(*args, **kwds)\n"
     ]
    }
   ],
   "source": [
    "import pandas as pd\n",
    "import geopandas as gpd"
   ]
  },
  {
   "cell_type": "code",
   "execution_count": 2,
   "metadata": {},
   "outputs": [
    {
     "data": {
      "text/html": [
       "<div>\n",
       "<style scoped>\n",
       "    .dataframe tbody tr th:only-of-type {\n",
       "        vertical-align: middle;\n",
       "    }\n",
       "\n",
       "    .dataframe tbody tr th {\n",
       "        vertical-align: top;\n",
       "    }\n",
       "\n",
       "    .dataframe thead th {\n",
       "        text-align: right;\n",
       "    }\n",
       "</style>\n",
       "<table border=\"1\" class=\"dataframe\">\n",
       "  <thead>\n",
       "    <tr style=\"text-align: right;\">\n",
       "      <th></th>\n",
       "      <th>timestamp</th>\n",
       "      <th>latitude</th>\n",
       "      <th>longitude</th>\n",
       "    </tr>\n",
       "  </thead>\n",
       "  <tbody>\n",
       "    <tr>\n",
       "      <th>0</th>\n",
       "      <td>2016-07-27 15:35:24</td>\n",
       "      <td>41.683614</td>\n",
       "      <td>-91.504861</td>\n",
       "    </tr>\n",
       "    <tr>\n",
       "      <th>1</th>\n",
       "      <td>2017-03-17 17:24:27</td>\n",
       "      <td>41.683686</td>\n",
       "      <td>-91.503358</td>\n",
       "    </tr>\n",
       "    <tr>\n",
       "      <th>2</th>\n",
       "      <td>2016-07-27 15:37:24</td>\n",
       "      <td>41.683698</td>\n",
       "      <td>-91.504880</td>\n",
       "    </tr>\n",
       "    <tr>\n",
       "      <th>3</th>\n",
       "      <td>2016-07-27 15:38:25</td>\n",
       "      <td>41.683710</td>\n",
       "      <td>-91.504871</td>\n",
       "    </tr>\n",
       "    <tr>\n",
       "      <th>4</th>\n",
       "      <td>2016-07-27 15:28:39.467000</td>\n",
       "      <td>41.683757</td>\n",
       "      <td>-91.504225</td>\n",
       "    </tr>\n",
       "  </tbody>\n",
       "</table>\n",
       "</div>"
      ],
      "text/plain": [
       "                    timestamp   latitude  longitude\n",
       "0         2016-07-27 15:35:24  41.683614 -91.504861\n",
       "1         2017-03-17 17:24:27  41.683686 -91.503358\n",
       "2         2016-07-27 15:37:24  41.683698 -91.504880\n",
       "3         2016-07-27 15:38:25  41.683710 -91.504871\n",
       "4  2016-07-27 15:28:39.467000  41.683757 -91.504225"
      ]
     },
     "execution_count": 2,
     "metadata": {},
     "output_type": "execute_result"
    }
   ],
   "source": [
    "# Johnson County Coords\n",
    "coords_f = '../data/johnson-cnty-coords.csv'\n",
    "coords_df = pd.read_csv(coords_f)\n",
    "\n",
    "coords_df.head()"
   ]
  },
  {
   "cell_type": "markdown",
   "metadata": {},
   "source": [
    "### Parse Timestamps into CST timezone from UTC"
   ]
  },
  {
   "cell_type": "code",
   "execution_count": 3,
   "metadata": {},
   "outputs": [
    {
     "name": "stderr",
     "output_type": "stream",
     "text": [
      "/home/user/.miniconda3/envs/maps/lib/python3.5/site-packages/pandas/core/frame.py:3781: SettingWithCopyWarning: \n",
      "A value is trying to be set on a copy of a slice from a DataFrame\n",
      "\n",
      "See the caveats in the documentation: http://pandas.pydata.org/pandas-docs/stable/indexing.html#indexing-view-versus-copy\n",
      "  return super(DataFrame, self).rename(**kwargs)\n"
     ]
    }
   ],
   "source": [
    "def parse_df_times(df):\n",
    "    # Copy as to not mutate OG data\n",
    "    copy_df = df.copy()\n",
    "    # Parse Google UTC timestamp\n",
    "    copy_df['parsed_timestamp'] = pd.to_datetime(copy_df['timestamp'], utc=True, infer_datetime_format=True)\n",
    "    # Convert to Central Time\n",
    "    copy_df['cst_timestamp'] = copy_df.parsed_timestamp.dt.tz_convert('America/Chicago')\n",
    "    \n",
    "    # Remove the verbose columns and rename to match\n",
    "    slim_df = copy_df[['cst_timestamp', 'latitude', 'longitude']]\n",
    "    slim_df.rename(columns={'cst_timestamp': 'timestamp'}, inplace=True)\n",
    "    \n",
    "    return slim_df\n",
    "\n",
    "time_parsed_df = parse_df_times(coords_df)"
   ]
  },
  {
   "cell_type": "markdown",
   "metadata": {},
   "source": [
    "### Time Manipulation\n",
    "\n",
    "Add attrs:\n",
    "- hour of day (nights)\n",
    "- day of week (weekend, 'business_hrs')\n",
    "- date (year of school)"
   ]
  },
  {
   "cell_type": "code",
   "execution_count": 10,
   "metadata": {},
   "outputs": [
    {
     "data": {
      "text/html": [
       "<div>\n",
       "<style scoped>\n",
       "    .dataframe tbody tr th:only-of-type {\n",
       "        vertical-align: middle;\n",
       "    }\n",
       "\n",
       "    .dataframe tbody tr th {\n",
       "        vertical-align: top;\n",
       "    }\n",
       "\n",
       "    .dataframe thead th {\n",
       "        text-align: right;\n",
       "    }\n",
       "</style>\n",
       "<table border=\"1\" class=\"dataframe\">\n",
       "  <thead>\n",
       "    <tr style=\"text-align: right;\">\n",
       "      <th></th>\n",
       "      <th>timestamp</th>\n",
       "      <th>latitude</th>\n",
       "      <th>longitude</th>\n",
       "    </tr>\n",
       "  </thead>\n",
       "  <tbody>\n",
       "    <tr>\n",
       "      <th>0</th>\n",
       "      <td>2016-07-27 10:35:24-05:00</td>\n",
       "      <td>41.683614</td>\n",
       "      <td>-91.504861</td>\n",
       "    </tr>\n",
       "    <tr>\n",
       "      <th>1</th>\n",
       "      <td>2017-03-17 12:24:27-05:00</td>\n",
       "      <td>41.683686</td>\n",
       "      <td>-91.503358</td>\n",
       "    </tr>\n",
       "    <tr>\n",
       "      <th>2</th>\n",
       "      <td>2016-07-27 10:37:24-05:00</td>\n",
       "      <td>41.683698</td>\n",
       "      <td>-91.504880</td>\n",
       "    </tr>\n",
       "    <tr>\n",
       "      <th>3</th>\n",
       "      <td>2016-07-27 10:38:25-05:00</td>\n",
       "      <td>41.683710</td>\n",
       "      <td>-91.504871</td>\n",
       "    </tr>\n",
       "    <tr>\n",
       "      <th>4</th>\n",
       "      <td>2016-07-27 10:28:39.467000-05:00</td>\n",
       "      <td>41.683757</td>\n",
       "      <td>-91.504225</td>\n",
       "    </tr>\n",
       "  </tbody>\n",
       "</table>\n",
       "</div>"
      ],
      "text/plain": [
       "                         timestamp   latitude  longitude\n",
       "0        2016-07-27 10:35:24-05:00  41.683614 -91.504861\n",
       "1        2017-03-17 12:24:27-05:00  41.683686 -91.503358\n",
       "2        2016-07-27 10:37:24-05:00  41.683698 -91.504880\n",
       "3        2016-07-27 10:38:25-05:00  41.683710 -91.504871\n",
       "4 2016-07-27 10:28:39.467000-05:00  41.683757 -91.504225"
      ]
     },
     "execution_count": 10,
     "metadata": {},
     "output_type": "execute_result"
    }
   ],
   "source": [
    "time_parsed_df.head()"
   ]
  },
  {
   "cell_type": "code",
   "execution_count": 4,
   "metadata": {},
   "outputs": [
    {
     "name": "stderr",
     "output_type": "stream",
     "text": [
      "/home/user/.miniconda3/envs/maps/lib/python3.5/site-packages/ipykernel_launcher.py:3: FutureWarning: `weekday_name` is deprecated and will be removed in a future version. Use `day_name` instead\n",
      "  This is separate from the ipykernel package so we can avoid doing imports until\n"
     ]
    },
    {
     "data": {
      "text/plain": [
       "'07/27/16'"
      ]
     },
     "execution_count": 4,
     "metadata": {},
     "output_type": "execute_result"
    }
   ],
   "source": [
    "test = time_parsed_df.iloc[0].timestamp\n",
    "\n",
    "test.weekday_name # wed\n",
    "test.hour # 10\n",
    "test.strftime('%x') # '07/26/2016'"
   ]
  },
  {
   "cell_type": "code",
   "execution_count": 51,
   "metadata": {},
   "outputs": [
    {
     "name": "stderr",
     "output_type": "stream",
     "text": [
      "/home/user/.miniconda3/envs/maps/lib/python3.5/site-packages/ipykernel_launcher.py:27: FutureWarning: `weekday_name` is deprecated and will be removed in a future version. Use `day_name` instead\n"
     ]
    }
   ],
   "source": [
    "from datetime import datetime\n",
    "import pytz\n",
    "\n",
    "cst = pytz.timezone('America/Chicago')\n",
    "years = {\n",
    "    'freshman': [datetime(year=2013, month=8, day=1, tzinfo=cst), datetime(year=2014, month=5, day=15, tzinfo=cst)],\n",
    "    'sophomore': [datetime(year=2014, month=6, day=16, tzinfo=cst), datetime(year=2015, month=5, day=15, tzinfo=cst)],\n",
    "    'junior': [datetime(year=2015, month=5, day=16, tzinfo=cst), datetime(year=2016, month=5, day=15, tzinfo=cst)],\n",
    "    'senior': [datetime(year=2016, month=5, day=16, tzinfo=cst), datetime(year=2017, month=5, day=18, tzinfo=cst)],\n",
    "    'postgrad': [datetime(year=2017, month=5, day=19, tzinfo=cst), datetime(year=2018, month=10, day=1, tzinfo=cst)]\n",
    "}\n",
    "\n",
    "def assign_year(timestamp):\n",
    "    for yr_obj in years.items():\n",
    "        yr = yr_obj[0]\n",
    "        start = yr_obj[1][0]\n",
    "        end = yr_obj[1][1]\n",
    "        \n",
    "        if ((timestamp > start) and (timestamp < end)):\n",
    "            return yr\n",
    "    return 'none'\n",
    "\n",
    "def is_weekend(day):\n",
    "    return ((day == 'Saturday') or (day == 'Sunday'))\n",
    "\n",
    "def is_business(timestamp):\n",
    "    day = timestamp.weekday_name\n",
    "    hour = timestamp.hour\n",
    "    business_day = is_weekend(day) == False\n",
    "    business_hrs = ((hour >= 7) and (hour < 19))\n",
    "    return (business_day and business_hrs)\n",
    "\n",
    "def format_df_cols(df):\n",
    "    # Non-mutable\n",
    "    copy_df = df.copy()\n",
    "    \n",
    "    # Add time attributes\n",
    "    copy_df['weekday'] = df.timestamp.dt.weekday_name\n",
    "    copy_df['dayhour'] = df.timestamp.dt.hour\n",
    "    \n",
    "    # Dimensions\n",
    "    copy_df['weekend'] = copy_df['weekday'].apply(is_weekend)\n",
    "    copy_df['year'] = copy_df['timestamp'].apply(assign_year)\n",
    "    copy_df['business'] = copy_df['timestamp'].apply(is_business)\n",
    "    \n",
    "    return copy_df\n",
    "\n",
    "df_attrs = format_df_cols(time_parsed_df)"
   ]
  },
  {
   "cell_type": "code",
   "execution_count": 52,
   "metadata": {},
   "outputs": [
    {
     "data": {
      "text/html": [
       "<div>\n",
       "<style scoped>\n",
       "    .dataframe tbody tr th:only-of-type {\n",
       "        vertical-align: middle;\n",
       "    }\n",
       "\n",
       "    .dataframe tbody tr th {\n",
       "        vertical-align: top;\n",
       "    }\n",
       "\n",
       "    .dataframe thead th {\n",
       "        text-align: right;\n",
       "    }\n",
       "</style>\n",
       "<table border=\"1\" class=\"dataframe\">\n",
       "  <thead>\n",
       "    <tr style=\"text-align: right;\">\n",
       "      <th></th>\n",
       "      <th>timestamp</th>\n",
       "      <th>latitude</th>\n",
       "      <th>longitude</th>\n",
       "      <th>weekday</th>\n",
       "      <th>dayhour</th>\n",
       "      <th>weekend</th>\n",
       "      <th>year</th>\n",
       "      <th>business</th>\n",
       "    </tr>\n",
       "  </thead>\n",
       "  <tbody>\n",
       "    <tr>\n",
       "      <th>0</th>\n",
       "      <td>2016-07-27 10:35:24-05:00</td>\n",
       "      <td>41.683614</td>\n",
       "      <td>-91.504861</td>\n",
       "      <td>Wednesday</td>\n",
       "      <td>10</td>\n",
       "      <td>False</td>\n",
       "      <td>senior</td>\n",
       "      <td>True</td>\n",
       "    </tr>\n",
       "    <tr>\n",
       "      <th>1</th>\n",
       "      <td>2017-03-17 12:24:27-05:00</td>\n",
       "      <td>41.683686</td>\n",
       "      <td>-91.503358</td>\n",
       "      <td>Friday</td>\n",
       "      <td>12</td>\n",
       "      <td>False</td>\n",
       "      <td>senior</td>\n",
       "      <td>True</td>\n",
       "    </tr>\n",
       "    <tr>\n",
       "      <th>2</th>\n",
       "      <td>2016-07-27 10:37:24-05:00</td>\n",
       "      <td>41.683698</td>\n",
       "      <td>-91.504880</td>\n",
       "      <td>Wednesday</td>\n",
       "      <td>10</td>\n",
       "      <td>False</td>\n",
       "      <td>senior</td>\n",
       "      <td>True</td>\n",
       "    </tr>\n",
       "    <tr>\n",
       "      <th>3</th>\n",
       "      <td>2016-07-27 10:38:25-05:00</td>\n",
       "      <td>41.683710</td>\n",
       "      <td>-91.504871</td>\n",
       "      <td>Wednesday</td>\n",
       "      <td>10</td>\n",
       "      <td>False</td>\n",
       "      <td>senior</td>\n",
       "      <td>True</td>\n",
       "    </tr>\n",
       "    <tr>\n",
       "      <th>4</th>\n",
       "      <td>2016-07-27 10:28:39.467000-05:00</td>\n",
       "      <td>41.683757</td>\n",
       "      <td>-91.504225</td>\n",
       "      <td>Wednesday</td>\n",
       "      <td>10</td>\n",
       "      <td>False</td>\n",
       "      <td>senior</td>\n",
       "      <td>True</td>\n",
       "    </tr>\n",
       "  </tbody>\n",
       "</table>\n",
       "</div>"
      ],
      "text/plain": [
       "                         timestamp   latitude  longitude    weekday  dayhour  \\\n",
       "0        2016-07-27 10:35:24-05:00  41.683614 -91.504861  Wednesday       10   \n",
       "1        2017-03-17 12:24:27-05:00  41.683686 -91.503358     Friday       12   \n",
       "2        2016-07-27 10:37:24-05:00  41.683698 -91.504880  Wednesday       10   \n",
       "3        2016-07-27 10:38:25-05:00  41.683710 -91.504871  Wednesday       10   \n",
       "4 2016-07-27 10:28:39.467000-05:00  41.683757 -91.504225  Wednesday       10   \n",
       "\n",
       "   weekend    year business  \n",
       "0    False  senior     True  \n",
       "1    False  senior     True  \n",
       "2    False  senior     True  \n",
       "3    False  senior     True  \n",
       "4    False  senior     True  "
      ]
     },
     "execution_count": 52,
     "metadata": {},
     "output_type": "execute_result"
    }
   ],
   "source": [
    "df_attrs.head()"
   ]
  },
  {
   "cell_type": "code",
   "execution_count": 53,
   "metadata": {},
   "outputs": [
    {
     "data": {
      "text/plain": [
       "False    343463\n",
       "True     228419\n",
       "Name: business, dtype: int64"
      ]
     },
     "execution_count": 53,
     "metadata": {},
     "output_type": "execute_result"
    }
   ],
   "source": [
    "df_attrs.business.value_counts()"
   ]
  },
  {
   "cell_type": "code",
   "execution_count": 54,
   "metadata": {},
   "outputs": [
    {
     "data": {
      "text/plain": [
       "postgrad    245404\n",
       "senior      215624\n",
       "junior      106221\n",
       "none          4633\n",
       "Name: year, dtype: int64"
      ]
     },
     "execution_count": 54,
     "metadata": {},
     "output_type": "execute_result"
    }
   ],
   "source": [
    "df_attrs.year.value_counts()"
   ]
  },
  {
   "cell_type": "markdown",
   "metadata": {},
   "source": [
    "## Campus Buildings"
   ]
  },
  {
   "cell_type": "code",
   "execution_count": null,
   "metadata": {},
   "outputs": [],
   "source": []
  }
 ],
 "metadata": {
  "kernelspec": {
   "display_name": "Python 3",
   "language": "python",
   "name": "python3"
  },
  "language_info": {
   "codemirror_mode": {
    "name": "ipython",
    "version": 3
   },
   "file_extension": ".py",
   "mimetype": "text/x-python",
   "name": "python",
   "nbconvert_exporter": "python",
   "pygments_lexer": "ipython3",
   "version": "3.5.5"
  }
 },
 "nbformat": 4,
 "nbformat_minor": 2
}
