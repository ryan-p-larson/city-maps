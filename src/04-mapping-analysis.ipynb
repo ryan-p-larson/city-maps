{
 "cells": [
  {
   "cell_type": "markdown",
   "metadata": {},
   "source": [
    "# Mapping - Analysis\n",
    "\n",
    "---\n",
    "\n",
    "### Links Used\n",
    "\n",
    "- [Interpolating data on a grid](https://earthscience.stackexchange.com/questions/12057/how-to-interpolate-scattered-data-to-a-regular-grid-in-python)\n",
    "- [Interpolating between grids with Basemap](http://earthpy.org/interpolation_between_grids_with_basemap.html)\n",
    "- [EarthPy - Visualization](http://earthpy.org/category/visualization.html)\n",
    "- [Counting grids from set of points using numpy](https://gis.stackexchange.com/questions/257466/creating-counting-grid-from-set-of-points-using-numpy)\n",
    "- [GIS using PyData stack](http://darribas.org/gds_scipy16/gds_scipy16.pdf)\n",
    "- [**GeoPlot - KDEPlot**](https://residentmario.github.io/geoplot/kdeplot.html#geoplot.kdeplot)\n",
    "- [Seaborn - KDEPlot](https://seaborn.pydata.org/generated/seaborn.kdeplot.html)\n",
    "- [Visualization with Python, O'Rielly Media](https://www.oreilly.com/library/view/python-data-science/9781491912126/ch04.html)\n",
    "\n",
    "### Dependencies"
   ]
  },
  {
   "cell_type": "code",
   "execution_count": 17,
   "metadata": {},
   "outputs": [],
   "source": [
    "# hide warnings\n",
    "import warnings\n",
    "warnings.filterwarnings('ignore')\n",
    "\n",
    "# Data manipulation\n",
    "import numpy as np\n",
    "import pandas as pd\n",
    "import geopandas as gpd\n",
    "from scipy.interpolate import griddata\n",
    "from shapely.geometry import Point\n",
    "\n",
    "# Plotting\n",
    "from matplotlib import pyplot as plt\n",
    "import geoplot as gp"
   ]
  },
  {
   "cell_type": "markdown",
   "metadata": {},
   "source": [
    "### Objective\n",
    "\n",
    "`Create a banded heatmap of yearly location activity in Iowa City.`\n",
    "\n",
    "**Steps:**\n",
    "\n",
    "1. Basemap class\n",
    "2. Create gridding interpolation function\n",
    "    - Get extent of location points (lat/lng)\n",
    "    - Divide by `n` to number of bins\n",
    "    - assign points to (`i, j`) bin.\n",
    "    - return grid with weights"
   ]
  },
  {
   "cell_type": "code",
   "execution_count": 2,
   "metadata": {},
   "outputs": [
    {
     "data": {
      "text/html": [
       "<div>\n",
       "<style scoped>\n",
       "    .dataframe tbody tr th:only-of-type {\n",
       "        vertical-align: middle;\n",
       "    }\n",
       "\n",
       "    .dataframe tbody tr th {\n",
       "        vertical-align: top;\n",
       "    }\n",
       "\n",
       "    .dataframe thead th {\n",
       "        text-align: right;\n",
       "    }\n",
       "</style>\n",
       "<table border=\"1\" class=\"dataframe\">\n",
       "  <thead>\n",
       "    <tr style=\"text-align: right;\">\n",
       "      <th></th>\n",
       "      <th>timestamp</th>\n",
       "      <th>latitude</th>\n",
       "      <th>longitude</th>\n",
       "      <th>weekday</th>\n",
       "      <th>dayhour</th>\n",
       "      <th>weekend</th>\n",
       "      <th>year</th>\n",
       "      <th>business</th>\n",
       "    </tr>\n",
       "  </thead>\n",
       "  <tbody>\n",
       "    <tr>\n",
       "      <th>0</th>\n",
       "      <td>2016-07-27 10:35:24-05:00</td>\n",
       "      <td>41.683614</td>\n",
       "      <td>-91.504861</td>\n",
       "      <td>Wednesday</td>\n",
       "      <td>10</td>\n",
       "      <td>False</td>\n",
       "      <td>none</td>\n",
       "      <td>True</td>\n",
       "    </tr>\n",
       "    <tr>\n",
       "      <th>1</th>\n",
       "      <td>2017-03-17 12:24:27-05:00</td>\n",
       "      <td>41.683686</td>\n",
       "      <td>-91.503358</td>\n",
       "      <td>Friday</td>\n",
       "      <td>12</td>\n",
       "      <td>False</td>\n",
       "      <td>senior</td>\n",
       "      <td>True</td>\n",
       "    </tr>\n",
       "    <tr>\n",
       "      <th>2</th>\n",
       "      <td>2016-07-27 10:37:24-05:00</td>\n",
       "      <td>41.683698</td>\n",
       "      <td>-91.504880</td>\n",
       "      <td>Wednesday</td>\n",
       "      <td>10</td>\n",
       "      <td>False</td>\n",
       "      <td>none</td>\n",
       "      <td>True</td>\n",
       "    </tr>\n",
       "    <tr>\n",
       "      <th>3</th>\n",
       "      <td>2016-07-27 10:38:25-05:00</td>\n",
       "      <td>41.683710</td>\n",
       "      <td>-91.504871</td>\n",
       "      <td>Wednesday</td>\n",
       "      <td>10</td>\n",
       "      <td>False</td>\n",
       "      <td>none</td>\n",
       "      <td>True</td>\n",
       "    </tr>\n",
       "    <tr>\n",
       "      <th>4</th>\n",
       "      <td>2016-07-27 10:28:39.467000-05:00</td>\n",
       "      <td>41.683757</td>\n",
       "      <td>-91.504225</td>\n",
       "      <td>Wednesday</td>\n",
       "      <td>10</td>\n",
       "      <td>False</td>\n",
       "      <td>none</td>\n",
       "      <td>True</td>\n",
       "    </tr>\n",
       "  </tbody>\n",
       "</table>\n",
       "</div>"
      ],
      "text/plain": [
       "                          timestamp   latitude  longitude    weekday  dayhour  \\\n",
       "0         2016-07-27 10:35:24-05:00  41.683614 -91.504861  Wednesday       10   \n",
       "1         2017-03-17 12:24:27-05:00  41.683686 -91.503358     Friday       12   \n",
       "2         2016-07-27 10:37:24-05:00  41.683698 -91.504880  Wednesday       10   \n",
       "3         2016-07-27 10:38:25-05:00  41.683710 -91.504871  Wednesday       10   \n",
       "4  2016-07-27 10:28:39.467000-05:00  41.683757 -91.504225  Wednesday       10   \n",
       "\n",
       "   weekend    year  business  \n",
       "0    False    none      True  \n",
       "1    False  senior      True  \n",
       "2    False    none      True  \n",
       "3    False    none      True  \n",
       "4    False    none      True  "
      ]
     },
     "execution_count": 2,
     "metadata": {},
     "output_type": "execute_result"
    }
   ],
   "source": [
    "# data file\n",
    "coords_f = '../data/johnson-cnty-coords.csv'\n",
    "coords_df = pd.read_csv(coords_f)\n",
    "\n",
    "coords_df.head()"
   ]
  },
  {
   "cell_type": "markdown",
   "metadata": {},
   "source": [
    "### Utils"
   ]
  },
  {
   "cell_type": "code",
   "execution_count": 35,
   "metadata": {},
   "outputs": [],
   "source": [
    "# IC basemap\n",
    "\n",
    "# return year\n",
    "def get_yr_coords(df, year):\n",
    "    return df[df.year == year]\n",
    "\n",
    "# create data grid\n",
    "\n"
   ]
  },
  {
   "cell_type": "code",
   "execution_count": 62,
   "metadata": {},
   "outputs": [
    {
     "name": "stdout",
     "output_type": "stream",
     "text": [
      "Extents\n",
      "\tLat: [41.53943889999999, 41.86075870000001], Lng: [-91.8338444, -91.36904720000001]\n",
      "Ranges\n",
      "\tLat: 0.32131980000001903, Lng: 0.46479719999999247\n",
      "Steps\n",
      "\tLat: 0.000642639600000038, Lng: 0.0009295943999999849\n"
     ]
    }
   ],
   "source": [
    "# Coordinate Extents\n",
    "lat_extent = [coords_df.latitude.min(),  coords_df.latitude.max()]\n",
    "lng_extent = [coords_df.longitude.min(), coords_df.longitude.max()]\n",
    "map_extent = (lng_extent[0], lng_extent[1], lat_extent[0], lat_extent[1])\n",
    "\n",
    "# Coordinate Ranges\n",
    "lat_range = lat_extent[1] - lat_extent[0]\n",
    "lng_range = lng_extent[1] - lng_extent[0]\n",
    "\n",
    "def create_range_step(extent, num_bins):\n",
    "    return extent / num_bins\n",
    "\n",
    "lat_step = create_range_step(lat_range, 500)\n",
    "lng_step = create_range_step(lng_range, 500)\n",
    "\n",
    "print ('Extents\\n\\tLat: {}, Lng: {}'.format(lat_extent, lng_extent))\n",
    "print ('Ranges\\n\\tLat: {}, Lng: {}'.format(lat_range, lng_range))\n",
    "print ('Steps\\n\\tLat: {}, Lng: {}'.format(lat_step, lng_step))"
   ]
  },
  {
   "cell_type": "code",
   "execution_count": 23,
   "metadata": {},
   "outputs": [],
   "source": [
    "### GRIDS\n",
    "\n",
    "# lat is Y\n",
    "# lng is X\n",
    "steps_lat = np.arange(lat_extent[0], lat_extent[1], lat_step)\n",
    "steps_lng = np.arange(lng_extent[0], lng_extent[1], lng_step)\n",
    "\n",
    "grid_lat, grid_lng = np.meshgrid(steps_lat, steps_lng)\n",
    "\n",
    "# Coord values (1, because a coordinate is *1* observation)\n",
    "n = len(coords_df)\n",
    "ones = np.empty(n)\n",
    "ones.fill(1)\n",
    "\n",
    "# Filled grid\n",
    "#zi = griddata((x,y),z,(xi,yi),method='linear')\n",
    "z = griddata((coords_df.latitude, coords_df.longitude), ones, (grid_lng, grid_lat), method='linear')"
   ]
  },
  {
   "cell_type": "code",
   "execution_count": 27,
   "metadata": {},
   "outputs": [
    {
     "data": {
      "text/plain": [
       "nan"
      ]
     },
     "execution_count": 27,
     "metadata": {},
     "output_type": "execute_result"
    }
   ],
   "source": [
    "def create_grid(df, numrows=240, numcols=240, method='linear'):\n",
    "    # Create bins and grid\n",
    "    xi = np.linspace(df.longitude.min(), df.longitude.max(), numcols)\n",
    "    yi = np.linspace(df.latitude.min(), df.latitude.max(), numrows)\n",
    "    xi, yi = np.meshgrid(xi, yi)\n",
    "    \n",
    "    # Create values\n",
    "    n = len(df)\n",
    "    ones = np.empty(n)\n",
    "    ones.fill(1)\n",
    "    \n",
    "    # Interpolate data grid\n",
    "    zi = griddata((df.longitude, df.latitude),\n",
    "                 ones,\n",
    "                 (xi, yi), method=method)\n",
    "    return zi\n",
    "\n",
    "create_grid(coords_df).max()"
   ]
  },
  {
   "cell_type": "code",
   "execution_count": null,
   "metadata": {},
   "outputs": [],
   "source": []
  },
  {
   "cell_type": "code",
   "execution_count": null,
   "metadata": {},
   "outputs": [],
   "source": []
  },
  {
   "cell_type": "markdown",
   "metadata": {},
   "source": [
    "### Geopandas + GeoPlot"
   ]
  },
  {
   "cell_type": "code",
   "execution_count": 47,
   "metadata": {},
   "outputs": [],
   "source": [
    "test_df = gpd.GeoDataFrame(\n",
    "    {\n",
    "        'value': ones,\n",
    "        'year': coords_df.year\n",
    "    },\n",
    "    crs={'init': 'epsg:4326'},\n",
    "    geometry=[Point(xy) for xy in zip(coords_df.longitude, coords_df.latitude)]\n",
    ")"
   ]
  },
  {
   "cell_type": "code",
   "execution_count": 63,
   "metadata": {},
   "outputs": [],
   "source": [
    "yr_jr = get_yr_coords(test_df, 'junior')\n",
    "yr_sr = get_yr_coords(test_df, 'senior')\n",
    "yr_pg = get_yr_coords(test_df, 'postgrad')\n",
    "\n",
    "yr_colors = {\n",
    "    'junior': 'Reds',\n",
    "    'senior': 'Blues',\n",
    "    'postgrad': 'Greens'\n",
    "}\n",
    "\n",
    "def plot_yr(df, ax):\n",
    "    year = df.year.unique()[0]\n",
    "    cmap = yr_colors[year]\n",
    "    \n",
    "    gp.kdeplot(\n",
    "        df.sample(1000),\n",
    "        extent=map_extent,\n",
    "        ax=ax,\n",
    "        kwargs={\n",
    "            'gridsize': 240,\n",
    "            'linewidth': 0.1\n",
    "        }\n",
    "    )"
   ]
  },
  {
   "cell_type": "code",
   "execution_count": 64,
   "metadata": {},
   "outputs": [
    {
     "data": {
      "image/png": "[encoded data removed]",
      "text/plain": [
       "<Figure size 432x288 with 1 Axes>"
      ]
     },
     "metadata": {
      "needs_background": "light"
     },
     "output_type": "display_data"
    }
   ],
   "source": [
    "fig, axes = plt.subplots(1)\n",
    "\n",
    "plot_yr(yr_jr, axes)\n",
    "plot_yr(yr_sr, axes)\n",
    "plot_yr(yr_pg, axes)\n",
    "\n",
    "plt.show()"
   ]
  },
  {
   "cell_type": "code",
   "execution_count": 69,
   "metadata": {},
   "outputs": [
    {
     "name": "stdout",
     "output_type": "stream",
     "text": [
      "571882\n"
     ]
    },
    {
     "data": {
      "text/plain": [
       "66175"
      ]
     },
     "execution_count": 69,
     "metadata": {},
     "output_type": "execute_result"
    }
   ],
   "source": [
    "print (len(coords_df.latitude))\n",
    "len(coords_df.latitude.unique())"
   ]
  },
  {
   "cell_type": "code",
   "execution_count": 66,
   "metadata": {},
   "outputs": [
    {
     "data": {
      "text/plain": [
       "75379"
      ]
     },
     "execution_count": 66,
     "metadata": {},
     "output_type": "execute_result"
    }
   ],
   "source": [
    "len(coords_df.longitude.unique())"
   ]
  },
  {
   "cell_type": "code",
   "execution_count": 68,
   "metadata": {},
   "outputs": [
    {
     "data": {
      "text/plain": [
       "571882"
      ]
     },
     "execution_count": 68,
     "metadata": {},
     "output_type": "execute_result"
    }
   ],
   "source": [
    "# df1.groupby(['A','B']).size().reset_index().rename(columns={0:'count'})\n",
    "unique_coords = coords_df.groupby(['longitude', 'latitude']).size().reset_index().rename(columns={0: 'count'})\n",
    "len(coords_df)"
   ]
  },
  {
   "cell_type": "code",
   "execution_count": 55,
   "metadata": {},
   "outputs": [
    {
     "data": {
      "image/png": "[encoded data removed]",
      "text/plain": [
       "<Figure size 576x432 with 1 Axes>"
      ]
     },
     "metadata": {
      "needs_background": "light"
     },
     "output_type": "display_data"
    }
   ],
   "source": [
    "gp.kdeplot(\n",
    "    test_df[test_df.year == 'junior'].sample(1000),\n",
    "    #extent=(minx, maxx,...),\n",
    "    kwargs={\n",
    "        'gridsize': 240,\n",
    "        'linewidth': 0.1\n",
    "    }\n",
    ")\n",
    "\n",
    "plt.show()"
   ]
  },
  {
   "cell_type": "code",
   "execution_count": null,
   "metadata": {},
   "outputs": [],
   "source": []
  }
 ],
 "metadata": {
  "kernelspec": {
   "display_name": "Python 3",
   "language": "python",
   "name": "python3"
  },
  "language_info": {
   "codemirror_mode": {
    "name": "ipython",
    "version": 3
   },
   "file_extension": ".py",
   "mimetype": "text/x-python",
   "name": "python",
   "nbconvert_exporter": "python",
   "pygments_lexer": "ipython3",
   "version": "3.5.5"
  }
 },
 "nbformat": 4,
 "nbformat_minor": 2
}
